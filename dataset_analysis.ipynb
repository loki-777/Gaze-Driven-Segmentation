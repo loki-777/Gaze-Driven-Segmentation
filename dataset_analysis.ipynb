{
 "cells": [
  {
   "cell_type": "code",
   "execution_count": 24,
   "metadata": {},
   "outputs": [],
   "source": [
    "import pandas as pd\n",
    "import numpy as np\n",
    "import glob, shutil\n",
    "import cv2\n",
    "import matplotlib.pyplot as plt"
   ]
  },
  {
   "cell_type": "markdown",
   "metadata": {},
   "source": [
    "**SIIM Pneumothorax Dataset Analysis**"
   ]
  },
  {
   "cell_type": "code",
   "execution_count": 38,
   "metadata": {},
   "outputs": [
    {
     "name": "stdout",
     "output_type": "stream",
     "text": [
      "Positive cases: 245\n",
      "Negative cases: 897\n",
      "Histogram of size of disease\n"
     ]
    },
    {
     "data": {
      "image/png": "[encoded data removed]",
      "text/plain": [
       "<Figure size 432x288 with 1 Axes>"
      ]
     },
     "metadata": {
      "needs_background": "light"
     },
     "output_type": "display_data"
    }
   ],
   "source": [
    "mask_paths = glob.glob(\"gaze-image-dataset/*/ground_truth/*\")\n",
    "gaze_paths = glob.glob(\"gaze-image-dataset/gaze_images/*\")\n",
    "\n",
    "mask_id_to_mask_path = { f.split(\"\\\\\")[-1].replace(\".jpg\", \"\") : f for f in mask_paths }\n",
    "\n",
    "disease_size_list = []\n",
    "for mask_path in mask_paths:\n",
    "    mask = cv2.imread(mask_path, cv2.COLOR_BGR2GRAY) / 255\n",
    "    if mask.max() > 0:\n",
    "        disease_size_list.append(mask.sum())\n",
    "\n",
    "disease_size_list = np.array(disease_size_list)\n",
    "\n",
    "print(f\"Positive cases: {len(disease_size_list)}\")\n",
    "print(f\"Negative cases: {len(mask_paths) - len(disease_size_list)}\")\n",
    "\n",
    "print(\"Histogram of size of disease\")\n",
    "plt.hist(disease_size_list, bins=100, alpha=0.75, color='blue', edgecolor='black')\n",
    "plt.show()"
   ]
  },
  {
   "cell_type": "code",
   "execution_count": 27,
   "metadata": {},
   "outputs": [],
   "source": [
    "# Dice Coefficient\n",
    "def dice_coefficient(A, B):\n",
    "    intersection = np.sum(A * B)\n",
    "    return 2 * intersection / (np.sum(A) + np.sum(B))\n",
    "\n",
    "# Intersection over Union (IoU)\n",
    "def iou(A, B):\n",
    "    intersection = np.sum(A * B)\n",
    "    union = np.sum(A) + np.sum(B) - intersection\n",
    "    return intersection / union\n",
    "\n",
    "# How much of the mask is gaze covering\n",
    "def intersection_over_mask(A, B):\n",
    "    intersection = np.sum(A * B)\n",
    "    return intersection / np.sum(A)\n",
    "\n",
    "def heatmap_spread(A):\n",
    "    return np.sum(A / (1024**2))\n",
    "\n",
    "def make_heatmaps(gaze_seqs, num_patches=8, normalize_heatmaps=False):\n",
    "    all_grids = np.zeros(\n",
    "        (len(gaze_seqs), 1, num_patches, num_patches), dtype=np.float32\n",
    "    )\n",
    "    for ndx, gaze_seq in enumerate(gaze_seqs):\n",
    "        # loop through gaze seq and increment # of visits to each patch\n",
    "        for (x, y, t) in gaze_seq:\n",
    "            # make sure if x or y are > 1 then they are 1\n",
    "            x, y = np.clip([x, y], 0.0, 0.999)\n",
    "            patch_x, patch_y = int(x * num_patches), int(y * num_patches)\n",
    "            all_grids[ndx, 0, patch_x, patch_y] += t\n",
    "        if normalize_heatmaps:\n",
    "            # Destroy total time information, as a diagnostic\n",
    "            all_grids[ndx] /= np.sum(all_grids[ndx])\n",
    "    return all_grids"
   ]
  },
  {
   "cell_type": "code",
   "execution_count": 42,
   "metadata": {},
   "outputs": [
    {
     "name": "stdout",
     "output_type": "stream",
     "text": [
      "Mean dice score between mask and gaze: 0.11528009229090119\n",
      "Mean iou score between mask and gaze: 0.0639190082612748\n",
      "Mean intersection over mask score between mask and gaze: 0.4378861633752245\n",
      "Mean heatmap spread score in positive cases: 1.10467302275867\n",
      "Mean heatmap spread score in negative cases: 0.7536436891427948\n"
     ]
    }
   ],
   "source": [
    "# for positive cases, we compute similarity metrics between mask and gaze\n",
    "# for negative cases, we compute size and spread of gaze\n",
    "\n",
    "dice_scores = []\n",
    "iou_scores = []\n",
    "intersection_over_mask_scores = []\n",
    "heatmap_spread_scores_positives = []\n",
    "heatmap_spread_scores_negatives = []\n",
    "for gaze_path in gaze_paths:\n",
    "    mask = cv2.imread(mask_id_to_mask_path[gaze_path.split(\"\\\\\")[-1].replace(\".jpg\", \"\")], cv2.COLOR_BGR2GRAY).astype(np.float64) / 255\n",
    "    gaze = cv2.imread(gaze_path, cv2.COLOR_BGR2GRAY).astype(np.float64)\n",
    "    # print(gaze)\n",
    "    # make_heatmaps([gaze]).shape\n",
    "    # break\n",
    "    gaze_normalised = gaze / np.max(gaze)\n",
    "    if mask.max() > 0:\n",
    "        dice_scores.append(dice_coefficient(mask, gaze_normalised))\n",
    "        iou_scores.append(iou(mask, gaze_normalised))\n",
    "        intersection_over_mask_scores.append(intersection_over_mask(mask, gaze_normalised))\n",
    "        heatmap_spread_scores_positives.append(heatmap_spread(gaze))\n",
    "    else:\n",
    "        heatmap_spread_scores_negatives.append(heatmap_spread(gaze))\n",
    "\n",
    "print(f\"Mean dice score between mask and gaze: {np.array(dice_scores).mean()}\")\n",
    "print(f\"Mean iou score between mask and gaze: {np.array(iou_scores).mean()}\")\n",
    "print(f\"Mean intersection over mask score between mask and gaze: {np.array(intersection_over_mask_scores).mean()}\")\n",
    "print(f\"Mean heatmap spread score in positive cases: {np.array(heatmap_spread_scores_positives).mean()}\")\n",
    "print(f\"Mean heatmap spread score in negative cases: {np.array(heatmap_spread_scores_negatives).mean()}\")"
   ]
  },
  {
   "cell_type": "markdown",
   "metadata": {},
   "source": [
    "**TUFTS Dental Dataset Analysis**"
   ]
  },
  {
   "cell_type": "markdown",
   "metadata": {},
   "source": []
  }
 ],
 "metadata": {
  "kernelspec": {
   "display_name": "Python 3",
   "language": "python",
   "name": "python3"
  },
  "language_info": {
   "codemirror_mode": {
    "name": "ipython",
    "version": 3
   },
   "file_extension": ".py",
   "mimetype": "text/x-python",
   "name": "python",
   "nbconvert_exporter": "python",
   "pygments_lexer": "ipython3",
   "version": "3.9.10"
  }
 },
 "nbformat": 4,
 "nbformat_minor": 2
}
